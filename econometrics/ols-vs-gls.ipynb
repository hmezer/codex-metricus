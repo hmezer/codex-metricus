{
  "nbformat": 4,
  "nbformat_minor": 0,
  "metadata": {
    "colab": {
      "provenance": [],
      "authorship_tag": "ABX9TyPOVh2qDNxS0PvBIEM6a8qC",
      "include_colab_link": true
    },
    "kernelspec": {
      "name": "python3",
      "display_name": "Python 3"
    },
    "language_info": {
      "name": "python"
    }
  },
  "cells": [
    {
      "cell_type": "markdown",
      "metadata": {
        "id": "view-in-github",
        "colab_type": "text"
      },
      "source": [
        "<a href=\"https://colab.research.google.com/github/hmezer/codex-metricus/blob/main/econometrics/ols_vs_gls.ipynb\" target=\"_parent\"><img src=\"https://colab.research.google.com/assets/colab-badge.svg\" alt=\"Open In Colab\"/></a>\n",
        "\n",
        "# Comparing OLS and GLS: Efficiency under Heteroskedasticity\n",
        "\n",
        "This notebook investigates the efficiency of Ordinary Least Squares (OLS) versus Generalized Least Squares (GLS) estimators, especially when the error variance changes with the regressor (i.e., the data is heteroskedastic)."
      ]
    },
    {
      "cell_type": "markdown",
      "source": [
        "First, we import the necessary plotting library."
      ],
      "metadata": {
        "id": "desc-imports"
      }
    },
    {
      "cell_type": "code",
      "source": [
        "import matplotlib.pyplot as plt"
      ],
      "metadata": {
        "id": "zlH-Tk4gIY5V"
      },
      "execution_count": 3,
      "outputs": []
    },
    {
      "cell_type": "markdown",
      "source": [
        "## Efficiency Calculation Setup\n",
        "\n",
        "In this section, we set up the design for comparing OLS and GLS. We construct a simple linear regression model with an intercept and a slope, for $n=10$ observations. We introduce heteroskedasticity by letting the error variance for observation $i$ be proportional to $x_i^\\delta$, where $\\delta$ controls the degree of heteroskedasticity. We then calculate the relative efficiency of GLS compared to OLS for various $\\delta$ values."
      ],
      "metadata": {
        "id": "desc-efficiency-setup"
      }
    },
    {
      "cell_type": "code",
      "execution_count": 4,
      "metadata": {
        "colab": {
          "base_uri": "https://localhost:8080/"
        },
        "id": "hTH22MhGH9Yz",
        "outputId": "b04dc1d1-caea-4b98-8ca1-3abdc666a3c4"
      },
      "outputs": [
        {
          "output_type": "execute_result",
          "data": {
            "text/plain": [
              "{0: np.float64(1.0),\n",
              " 0.5: np.float64(1.45826953765901),\n",
              " 1: np.float64(1.980429510678157),\n",
              " 1.5: np.float64(2.6040449352152195),\n",
              " 2: np.float64(3.486566301405887),\n",
              " 2.5: np.float64(4.9879134353396575)}"
            ]
          },
          "metadata": {},
          "execution_count": 4
        }
      ],
      "source": [
        "import numpy as np\n",
        "\n",
        "# Part b: comparing the relative efficiency of OLS vs GLS\n",
        "\n",
        "# Setup\n",
        "n = 10\n",
        "x = np.arange(1, n + 1)\n",
        "X = np.column_stack((np.ones(n), x))  # Design matrix with intercept and slope\n",
        "\n",
        "# We will test for these δ values\n",
        "delta_values = [0, 0.5, 1, 1.5, 2, 2.5]\n",
        "\n",
        "# Arbitrary sigma^2 (since it cancels out in the efficiency ratio)\n",
        "sigma2 = 1\n",
        "\n",
        "# Store efficiencies for each delta\n",
        "efficiencies = {}\n",
        "\n",
        "for delta in delta_values:\n",
        "    # Build variance vector: σ_i^2 = σ^2 * x_i^δ\n",
        "    variances = sigma2 * x ** delta\n",
        "    V = np.diag(variances)\n",
        "    V_inv = np.diag(1 / variances)\n",
        "\n",
        "    # OLS variance-covariance: σ^2 * (X'X)^(-1)\n",
        "    XtX_inv = np.linalg.inv(X.T @ X)\n",
        "    cov_ols = sigma2 * XtX_inv\n",
        "\n",
        "    # GLS variance-covariance: (X'V^{-1}X)^(-1)\n",
        "    XtVinvX_inv = np.linalg.inv(X.T @ V_inv @ X)\n",
        "    cov_gls = XtVinvX_inv\n",
        "\n",
        "    # Compute the efficiency: tr(Cov_GLS) / tr(Cov_OLS)\n",
        "    eff = np.trace(cov_gls) / np.trace(cov_ols)\n",
        "    efficiencies[delta] = eff\n",
        "\n",
        "efficiencies\n"
      ]
    },
    {
      "cell_type": "markdown",
      "source": [
        "## Visualizing Variance Profiles\n",
        "\n",
        "To illustrate how the error variance changes with $x$ for different $\\delta$, we plot the variance profile for $\\delta=0$ (homoskedastic), $\\delta=1$, and $\\delta=2$ (increasing heteroskedasticity)."
      ],
      "metadata": {
        "id": "desc-variance-profiles"
      }
    },
    {
      "cell_type": "code",
      "source": [
        "# Variance profiles for different δ\n",
        "x = np.arange(1, 11)\n",
        "sigma2 = 1\n",
        "delta_to_plot = [0, 1, 2]\n",
        "\n",
        "plt.figure(figsize=(8, 5))\n",
        "for delta in delta_to_plot:\n",
        "    variances = sigma2 * x ** delta\n",
        "    plt.plot(x, variances, label=f'δ = {delta}')\n",
        "\n",
        "plt.title('Variance Structure across Observations')\n",
        "plt.xlabel('Observation index i')\n",
        "plt.ylabel('Variance σ²ᵢ')\n",
        "plt.legend()\n",
        "plt.grid(True)\n",
        "plt.tight_layout()\n",
        "plt.show()\n"
      ],
      "metadata": {
        "colab": {
          "base_uri": "https://localhost:8080/",
          "height": 507
        },
        "id": "WaJYkNnuIXPE",
        "outputId": "2a5e5721-990f-4245-b27a-3ae8f6e5d04c"
      },
      "execution_count": 5,
      "outputs": [
        {
          "output_type": "display_data",
          "data": {
            "text/plain": [
              "<Figure size 800x500 with 1 Axes>"
            ],
            "image/png": "iVBORw0KGgoAAAANSUhEUgAAAxYAAAHqCAYAAACZcdjsAAAAOnRFWHRTb2Z0d2FyZQBNYXRwbG90bGliIHZlcnNpb24zLjEwLjAsIGh0dHBzOi8vbWF0cGxvdGxpYi5vcmcvlHJYcgAAAAlwSFlzAAAPYQAAD2EBqD+naQAAgGdJRE[...]
          },
          "metadata": {}
        }
      ]
    },
    {
      "cell_type": "markdown",
      "source": [
        "## Plotting Relative Efficiency\n",
        "\n",
        "Here, we visualize how the relative efficiency (measured by $\\text{trace}(\\text{Cov}_{\\text{GLS}}) / \\text{trace}(\\text{Cov}_{\\text{OLS}})$) varies as $\\delta$ increases. A value greater than 1 means that GLS is more efficient than OLS for the chosen variance structure."
      ],
      "metadata": {
        "id": "desc-plot-relative-eff"
      }
    },
    {
      "cell_type": "code",
      "source": [
        "import numpy as np\n",
        "import matplotlib.pyplot as plt\n",
        "\n",
        "# Inputs from previous analysis\n",
        "delta_values = [0, 0.5, 1, 1.5, 2, 2.5]\n",
        "efficiencies = [1.0, 1.45826953765901, 1.980429510678157, 2.6040449352152195, 3.486566301405887, 4.9879134353396575]\n",
        "\n",
        "# Plot 1: Efficiency vs Delta\n",
        "plt.figure(figsize=(8, 5))\n",
        "plt.plot(delta_values, efficiencies, marker='o', color='crimson')\n",
        "plt.axhline(1, color='gray', linestyle='--', linewidth=1)\n",
        "plt.title('Relative Efficiency of GLS vs OLS')\n",
        "plt.xlabel('δ (Heteroskedasticity Degree)')\n",
        "plt.ylabel('Relative Efficiency (trace(Cov_GLS) / trace(Cov_OLS))')\n",
        "plt.grid(True)\n",
        "plt.tight_layout()\n",
        "plt.show()\n"
      ],
      "metadata": {
        "colab": {
          "base_uri": "https://localhost:8080/",
          "height": 507
        },
        "id": "LYDjIbNfIYME",
        "outputId": "13b19fe9-0d17-403e-ae9c-9dfa0a918345"
      },
      "execution_count": 6,
      "outputs": [
        {
          "output_type": "display_data",
          "data": {
            "text/plain": [
              "<Figure size 800x500 with 1 Axes>"
            ],
            "image/png": "iVBORw0KGgoAAAANSUhEUgAAAxYAAAHqCAYAAACZcdjsAAAAOnRFWHRTb2Z0d2FyZQBNYXRwbG90bGliIHZlcnNpb24zLjEwLjAsIGh0dHBzOi8vbWF0cGxvdGxpYi5vcmcvlHJYcgAAAAlwSFlzAAAPYQAAD2EBqD+naQAAmHhJRE[...]
          },
          "metadata": {}
        }
      ]
    },
    {
      "cell_type": "markdown",
      "source": [
        "## Conclusion\n",
        "\n",
        "As shown above, as the degree of heteroskedasticity ($\\delta$) increases, GLS offers a greater efficiency gain over OLS. When the data is homoskedastic ($\\delta=0$), both methods are equally efficient, but for larger $\\delta$, OLS is increasingly suboptimal compared to GLS.\n",
        "\n",
        "_You can extend this notebook to try other values for $n$ or alternative variance structures._"
      ],
      "metadata": {
        "id": "desc-conclusion"
      }
    }
  ]
}
